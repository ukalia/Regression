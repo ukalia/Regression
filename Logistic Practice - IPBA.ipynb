{
 "cells": [
  {
   "cell_type": "markdown",
   "metadata": {},
   "source": [
    "# Marketing\n",
    "Find out the good and bad customers . <br>\n",
    "Amount spent > Avg spend  = Good <br>\n",
    "Amount spent < Avg spend = bad"
   ]
  },
  {
   "cell_type": "code",
   "execution_count": 187,
   "metadata": {},
   "outputs": [],
   "source": [
    "import pandas as pd\n",
    "import numpy as np\n",
    "import matplotlib.pyplot as plt\n",
    "import seaborn as sns\n",
    "import statsmodels.formula.api as smf\n",
    "import statsmodels.api as sm\n",
    "from statsmodels.stats.outliers_influence import variance_inflation_factor\n",
    "import patsy.builtins\n",
    "from patsy import dmatrices\n",
    "from sklearn.metrics import confusion_matrix\n",
    "from sklearn.metrics import roc_curve\n",
    "from sklearn.metrics import roc_auc_score\n",
    "from sklearn.impute import SimpleImputer\n",
    "from sklearn.preprocessing import OrdinalEncoder\n",
    "import scipy.stats as st\n",
    "%matplotlib inline"
   ]
  },
  {
   "cell_type": "code",
   "execution_count": 188,
   "metadata": {},
   "outputs": [
    {
     "name": "stdout",
     "output_type": "stream",
     "text": [
      "(1000, 11)\n"
     ]
    },
    {
     "data": {
      "text/html": [
       "<div>\n",
       "<style scoped>\n",
       "    .dataframe tbody tr th:only-of-type {\n",
       "        vertical-align: middle;\n",
       "    }\n",
       "\n",
       "    .dataframe tbody tr th {\n",
       "        vertical-align: top;\n",
       "    }\n",
       "\n",
       "    .dataframe thead th {\n",
       "        text-align: right;\n",
       "    }\n",
       "</style>\n",
       "<table border=\"1\" class=\"dataframe\">\n",
       "  <thead>\n",
       "    <tr style=\"text-align: right;\">\n",
       "      <th></th>\n",
       "      <th>Cust_Id</th>\n",
       "      <th>Age</th>\n",
       "      <th>Gender</th>\n",
       "      <th>OwnHome</th>\n",
       "      <th>Married</th>\n",
       "      <th>Location</th>\n",
       "      <th>Salary</th>\n",
       "      <th>Children</th>\n",
       "      <th>History</th>\n",
       "      <th>Catalogs</th>\n",
       "      <th>AmountSpent</th>\n",
       "    </tr>\n",
       "  </thead>\n",
       "  <tbody>\n",
       "    <tr>\n",
       "      <th>0</th>\n",
       "      <td>12</td>\n",
       "      <td>Young</td>\n",
       "      <td>Male</td>\n",
       "      <td>Rent</td>\n",
       "      <td>Single</td>\n",
       "      <td>Far</td>\n",
       "      <td>20400</td>\n",
       "      <td>0</td>\n",
       "      <td>Medium</td>\n",
       "      <td>18</td>\n",
       "      <td>867</td>\n",
       "    </tr>\n",
       "    <tr>\n",
       "      <th>1</th>\n",
       "      <td>14</td>\n",
       "      <td>Middle</td>\n",
       "      <td>Female</td>\n",
       "      <td>Rent</td>\n",
       "      <td>Single</td>\n",
       "      <td>Close</td>\n",
       "      <td>58600</td>\n",
       "      <td>1</td>\n",
       "      <td>Medium</td>\n",
       "      <td>6</td>\n",
       "      <td>624</td>\n",
       "    </tr>\n",
       "    <tr>\n",
       "      <th>2</th>\n",
       "      <td>15</td>\n",
       "      <td>Old</td>\n",
       "      <td>Female</td>\n",
       "      <td>Rent</td>\n",
       "      <td>Married</td>\n",
       "      <td>Close</td>\n",
       "      <td>84800</td>\n",
       "      <td>0</td>\n",
       "      <td>High</td>\n",
       "      <td>18</td>\n",
       "      <td>2624</td>\n",
       "    </tr>\n",
       "    <tr>\n",
       "      <th>3</th>\n",
       "      <td>16</td>\n",
       "      <td>Old</td>\n",
       "      <td>Male</td>\n",
       "      <td>Own</td>\n",
       "      <td>Married</td>\n",
       "      <td>Far</td>\n",
       "      <td>33000</td>\n",
       "      <td>0</td>\n",
       "      <td>Medium</td>\n",
       "      <td>12</td>\n",
       "      <td>979</td>\n",
       "    </tr>\n",
       "    <tr>\n",
       "      <th>4</th>\n",
       "      <td>16</td>\n",
       "      <td>Middle</td>\n",
       "      <td>Female</td>\n",
       "      <td>Rent</td>\n",
       "      <td>Married</td>\n",
       "      <td>Close</td>\n",
       "      <td>73000</td>\n",
       "      <td>1</td>\n",
       "      <td>Medium</td>\n",
       "      <td>6</td>\n",
       "      <td>490</td>\n",
       "    </tr>\n",
       "  </tbody>\n",
       "</table>\n",
       "</div>"
      ],
      "text/plain": [
       "   Cust_Id     Age  Gender OwnHome  Married Location  Salary  Children  \\\n",
       "0       12   Young    Male    Rent   Single      Far   20400         0   \n",
       "1       14  Middle  Female    Rent   Single    Close   58600         1   \n",
       "2       15     Old  Female    Rent  Married    Close   84800         0   \n",
       "3       16     Old    Male     Own  Married      Far   33000         0   \n",
       "4       16  Middle  Female    Rent  Married    Close   73000         1   \n",
       "\n",
       "  History  Catalogs  AmountSpent  \n",
       "0  Medium        18          867  \n",
       "1  Medium         6          624  \n",
       "2    High        18         2624  \n",
       "3  Medium        12          979  \n",
       "4  Medium         6          490  "
      ]
     },
     "execution_count": 188,
     "metadata": {},
     "output_type": "execute_result"
    }
   ],
   "source": [
    "data = pd.read_csv(\"D:/IPBA/Statistical Modelling/Logistic/1. Logistic Regression in Python Demo Part 1/dm.csv\")\n",
    "print(data.shape)\n",
    "data.head()"
   ]
  },
  {
   "cell_type": "markdown",
   "metadata": {},
   "source": [
    "# EDA and Data Cleaning"
   ]
  },
  {
   "cell_type": "code",
   "execution_count": 189,
   "metadata": {},
   "outputs": [
    {
     "name": "stdout",
     "output_type": "stream",
     "text": [
      "<class 'pandas.core.frame.DataFrame'>\n",
      "RangeIndex: 1000 entries, 0 to 999\n",
      "Data columns (total 11 columns):\n",
      " #   Column       Non-Null Count  Dtype \n",
      "---  ------       --------------  ----- \n",
      " 0   Cust_Id      1000 non-null   int64 \n",
      " 1   Age          1000 non-null   object\n",
      " 2   Gender       1000 non-null   object\n",
      " 3   OwnHome      1000 non-null   object\n",
      " 4   Married      1000 non-null   object\n",
      " 5   Location     1000 non-null   object\n",
      " 6   Salary       1000 non-null   int64 \n",
      " 7   Children     1000 non-null   int64 \n",
      " 8   History      697 non-null    object\n",
      " 9   Catalogs     1000 non-null   int64 \n",
      " 10  AmountSpent  1000 non-null   int64 \n",
      "dtypes: int64(5), object(6)\n",
      "memory usage: 86.1+ KB\n"
     ]
    }
   ],
   "source": [
    "data.info()"
   ]
  },
  {
   "cell_type": "code",
   "execution_count": 190,
   "metadata": {},
   "outputs": [
    {
     "data": {
      "text/plain": [
       "Cust_Id          0\n",
       "Age              0\n",
       "Gender           0\n",
       "OwnHome          0\n",
       "Married          0\n",
       "Location         0\n",
       "Salary           0\n",
       "Children         0\n",
       "History        303\n",
       "Catalogs         0\n",
       "AmountSpent      0\n",
       "dtype: int64"
      ]
     },
     "execution_count": 190,
     "metadata": {},
     "output_type": "execute_result"
    }
   ],
   "source": [
    "data.isnull().sum()"
   ]
  },
  {
   "cell_type": "markdown",
   "metadata": {},
   "source": [
    "The data types need to be changed for categorical variables and the categories need to be converted into numerical categories. \n",
    "The null values in History need to be handled"
   ]
  },
  {
   "cell_type": "markdown",
   "metadata": {},
   "source": [
    "Creating a new column(target) based on the Amount spent and dropping the column AmountSpent <br>\n",
    "1 = Good <br>\n",
    "0 = Bad "
   ]
  },
  {
   "cell_type": "code",
   "execution_count": 191,
   "metadata": {},
   "outputs": [
    {
     "data": {
      "text/html": [
       "<div>\n",
       "<style scoped>\n",
       "    .dataframe tbody tr th:only-of-type {\n",
       "        vertical-align: middle;\n",
       "    }\n",
       "\n",
       "    .dataframe tbody tr th {\n",
       "        vertical-align: top;\n",
       "    }\n",
       "\n",
       "    .dataframe thead th {\n",
       "        text-align: right;\n",
       "    }\n",
       "</style>\n",
       "<table border=\"1\" class=\"dataframe\">\n",
       "  <thead>\n",
       "    <tr style=\"text-align: right;\">\n",
       "      <th></th>\n",
       "      <th>Cust_Id</th>\n",
       "      <th>Age</th>\n",
       "      <th>Gender</th>\n",
       "      <th>OwnHome</th>\n",
       "      <th>Married</th>\n",
       "      <th>Location</th>\n",
       "      <th>Salary</th>\n",
       "      <th>Children</th>\n",
       "      <th>History</th>\n",
       "      <th>Catalogs</th>\n",
       "      <th>CustType</th>\n",
       "    </tr>\n",
       "  </thead>\n",
       "  <tbody>\n",
       "    <tr>\n",
       "      <th>0</th>\n",
       "      <td>12</td>\n",
       "      <td>Young</td>\n",
       "      <td>Male</td>\n",
       "      <td>Rent</td>\n",
       "      <td>Single</td>\n",
       "      <td>Far</td>\n",
       "      <td>20400</td>\n",
       "      <td>0</td>\n",
       "      <td>Medium</td>\n",
       "      <td>18</td>\n",
       "      <td>0</td>\n",
       "    </tr>\n",
       "    <tr>\n",
       "      <th>1</th>\n",
       "      <td>14</td>\n",
       "      <td>Middle</td>\n",
       "      <td>Female</td>\n",
       "      <td>Rent</td>\n",
       "      <td>Single</td>\n",
       "      <td>Close</td>\n",
       "      <td>58600</td>\n",
       "      <td>1</td>\n",
       "      <td>Medium</td>\n",
       "      <td>6</td>\n",
       "      <td>0</td>\n",
       "    </tr>\n",
       "    <tr>\n",
       "      <th>2</th>\n",
       "      <td>15</td>\n",
       "      <td>Old</td>\n",
       "      <td>Female</td>\n",
       "      <td>Rent</td>\n",
       "      <td>Married</td>\n",
       "      <td>Close</td>\n",
       "      <td>84800</td>\n",
       "      <td>0</td>\n",
       "      <td>High</td>\n",
       "      <td>18</td>\n",
       "      <td>1</td>\n",
       "    </tr>\n",
       "    <tr>\n",
       "      <th>3</th>\n",
       "      <td>16</td>\n",
       "      <td>Old</td>\n",
       "      <td>Male</td>\n",
       "      <td>Own</td>\n",
       "      <td>Married</td>\n",
       "      <td>Far</td>\n",
       "      <td>33000</td>\n",
       "      <td>0</td>\n",
       "      <td>Medium</td>\n",
       "      <td>12</td>\n",
       "      <td>0</td>\n",
       "    </tr>\n",
       "    <tr>\n",
       "      <th>4</th>\n",
       "      <td>16</td>\n",
       "      <td>Middle</td>\n",
       "      <td>Female</td>\n",
       "      <td>Rent</td>\n",
       "      <td>Married</td>\n",
       "      <td>Close</td>\n",
       "      <td>73000</td>\n",
       "      <td>1</td>\n",
       "      <td>Medium</td>\n",
       "      <td>6</td>\n",
       "      <td>0</td>\n",
       "    </tr>\n",
       "  </tbody>\n",
       "</table>\n",
       "</div>"
      ],
      "text/plain": [
       "   Cust_Id     Age  Gender OwnHome  Married Location  Salary  Children  \\\n",
       "0       12   Young    Male    Rent   Single      Far   20400         0   \n",
       "1       14  Middle  Female    Rent   Single    Close   58600         1   \n",
       "2       15     Old  Female    Rent  Married    Close   84800         0   \n",
       "3       16     Old    Male     Own  Married      Far   33000         0   \n",
       "4       16  Middle  Female    Rent  Married    Close   73000         1   \n",
       "\n",
       "  History  Catalogs  CustType  \n",
       "0  Medium        18         0  \n",
       "1  Medium         6         0  \n",
       "2    High        18         1  \n",
       "3  Medium        12         0  \n",
       "4  Medium         6         0  "
      ]
     },
     "execution_count": 191,
     "metadata": {},
     "output_type": "execute_result"
    }
   ],
   "source": [
    "df = data.copy()\n",
    "m = df['AmountSpent'].mean()\n",
    "df['CustType'] = df['AmountSpent'].map(lambda x : 1 if x > m else 0)\n",
    "df = df.drop('AmountSpent' , axis=1)\n",
    "df.head()"
   ]
  },
  {
   "cell_type": "markdown",
   "metadata": {},
   "source": [
    "Doing a feature wise analysis and cleaning the data"
   ]
  },
  {
   "cell_type": "markdown",
   "metadata": {},
   "source": [
    "# Age"
   ]
  },
  {
   "cell_type": "code",
   "execution_count": 192,
   "metadata": {},
   "outputs": [
    {
     "data": {
      "image/png": "[encoded data removed]",
      "text/plain": [
       "<Figure size 432x288 with 1 Axes>"
      ]
     },
     "metadata": {
      "needs_background": "light"
     },
     "output_type": "display_data"
    }
   ],
   "source": [
    "sns.countplot(x='Age' , hue='CustType' , data=df)\n",
    "plt.show()"
   ]
  },
  {
   "cell_type": "code",
   "execution_count": 193,
   "metadata": {},
   "outputs": [
    {
     "name": "stdout",
     "output_type": "stream",
     "text": [
      "Before Encoding\n",
      "\n",
      "Middle    508\n",
      "Young     287\n",
      "Old       205\n",
      "Name: Age, dtype: int64\n",
      "\n",
      "After Encoding\n"
     ]
    },
    {
     "data": {
      "text/plain": [
       "1.0    508\n",
       "0.0    287\n",
       "2.0    205\n",
       "Name: Age, dtype: int64"
      ]
     },
     "execution_count": 193,
     "metadata": {},
     "output_type": "execute_result"
    }
   ],
   "source": [
    "print(\"Before Encoding\\n\")\n",
    "print(df['Age'].value_counts())\n",
    "print(\"\\nAfter Encoding\")\n",
    "o = OrdinalEncoder(categories=[['Young','Middle','Old']])\n",
    "df['Age']=o.fit_transform(df[['Age']])\n",
    "df['Age'].value_counts()"
   ]
  },
  {
   "cell_type": "markdown",
   "metadata": {},
   "source": [
    "# Gender"
   ]
  },
  {
   "cell_type": "code",
   "execution_count": 194,
   "metadata": {},
   "outputs": [
    {
     "data": {
      "image/png": "[encoded data removed]",
      "text/plain": [
       "<Figure size 432x288 with 1 Axes>"
      ]
     },
     "metadata": {
      "needs_background": "light"
     },
     "output_type": "display_data"
    }
   ],
   "source": [
    "sns.countplot(x='Gender' , hue='CustType' , data=df)\n",
    "plt.show()"
   ]
  },
  {
   "cell_type": "code",
   "execution_count": 195,
   "metadata": {},
   "outputs": [
    {
     "name": "stdout",
     "output_type": "stream",
     "text": [
      "Before Encoding\n",
      "\n",
      "Female    506\n",
      "Male      494\n",
      "Name: Gender, dtype: int64\n",
      "\n",
      "After Encoding\n"
     ]
    },
    {
     "data": {
      "text/plain": [
       "0.0    506\n",
       "1.0    494\n",
       "Name: Gender, dtype: int64"
      ]
     },
     "execution_count": 195,
     "metadata": {},
     "output_type": "execute_result"
    }
   ],
   "source": [
    "print(\"Before Encoding\\n\")\n",
    "print(df['Gender'].value_counts())\n",
    "print(\"\\nAfter Encoding\")\n",
    "o = OrdinalEncoder(categories=[['Female','Male']])\n",
    "df['Gender']=o.fit_transform(df[['Gender']])\n",
    "df['Gender'].value_counts()"
   ]
  },
  {
   "cell_type": "markdown",
   "metadata": {},
   "source": [
    "# Own Home"
   ]
  },
  {
   "cell_type": "code",
   "execution_count": 196,
   "metadata": {
    "scrolled": true
   },
   "outputs": [
    {
     "data": {
      "image/png": "[encoded data removed]",
      "text/plain": [
       "<Figure size 432x288 with 1 Axes>"
      ]
     },
     "metadata": {
      "needs_background": "light"
     },
     "output_type": "display_data"
    }
   ],
   "source": [
    "sns.countplot(x='OwnHome' , hue='CustType' , data=df)\n",
    "plt.show()"
   ]
  },
  {
   "cell_type": "code",
   "execution_count": 197,
   "metadata": {},
   "outputs": [
    {
     "name": "stdout",
     "output_type": "stream",
     "text": [
      "Before Encoding\n",
      "\n",
      "Own     516\n",
      "Rent    484\n",
      "Name: OwnHome, dtype: int64\n",
      "\n",
      "After Encoding\n"
     ]
    },
    {
     "data": {
      "text/plain": [
       "1.0    516\n",
       "0.0    484\n",
       "Name: OwnHome, dtype: int64"
      ]
     },
     "execution_count": 197,
     "metadata": {},
     "output_type": "execute_result"
    }
   ],
   "source": [
    "print(\"Before Encoding\\n\")\n",
    "print(df['OwnHome'].value_counts())\n",
    "print(\"\\nAfter Encoding\")\n",
    "o = OrdinalEncoder(categories=[['Rent' , 'Own']])\n",
    "df['OwnHome']=o.fit_transform(df[['OwnHome']])\n",
    "df['OwnHome'].value_counts()"
   ]
  },
  {
   "cell_type": "markdown",
   "metadata": {},
   "source": [
    "# Marital Status"
   ]
  },
  {
   "cell_type": "code",
   "execution_count": 198,
   "metadata": {},
   "outputs": [
    {
     "data": {
      "image/png": "[encoded data removed]",
      "text/plain": [
       "<Figure size 432x288 with 1 Axes>"
      ]
     },
     "metadata": {
      "needs_background": "light"
     },
     "output_type": "display_data"
    }
   ],
   "source": [
    "sns.countplot(x='Married' , hue='CustType' , data=df)\n",
    "plt.show()"
   ]
  },
  {
   "cell_type": "code",
   "execution_count": 199,
   "metadata": {},
   "outputs": [
    {
     "name": "stdout",
     "output_type": "stream",
     "text": [
      "Before Encoding\n",
      "\n",
      "Married    502\n",
      "Single     498\n",
      "Name: Married, dtype: int64\n",
      "\n",
      "After Encoding\n"
     ]
    },
    {
     "data": {
      "text/plain": [
       "1.0    502\n",
       "0.0    498\n",
       "Name: Married, dtype: int64"
      ]
     },
     "execution_count": 199,
     "metadata": {},
     "output_type": "execute_result"
    }
   ],
   "source": [
    "print(\"Before Encoding\\n\")\n",
    "print(df['Married'].value_counts())\n",
    "print(\"\\nAfter Encoding\")\n",
    "o = OrdinalEncoder(categories=[['Single','Married']])\n",
    "df['Married']=o.fit_transform(df[['Married']])\n",
    "df['Married'].value_counts()"
   ]
  },
  {
   "cell_type": "markdown",
   "metadata": {},
   "source": [
    "# Location"
   ]
  },
  {
   "cell_type": "code",
   "execution_count": 200,
   "metadata": {},
   "outputs": [
    {
     "data": {
      "image/png": "[encoded data removed]",
      "text/plain": [
       "<Figure size 432x288 with 1 Axes>"
      ]
     },
     "metadata": {
      "needs_background": "light"
     },
     "output_type": "display_data"
    }
   ],
   "source": [
    "sns.countplot(x='Location' , hue='CustType' ,data=df)\n",
    "plt.show()"
   ]
  },
  {
   "cell_type": "code",
   "execution_count": 201,
   "metadata": {},
   "outputs": [
    {
     "name": "stdout",
     "output_type": "stream",
     "text": [
      "Before Encoding\n",
      "\n",
      "Close    710\n",
      "Far      290\n",
      "Name: Location, dtype: int64\n",
      "\n",
      "After Encoding\n"
     ]
    },
    {
     "data": {
      "text/plain": [
       "0.0    710\n",
       "1.0    290\n",
       "Name: Location, dtype: int64"
      ]
     },
     "execution_count": 201,
     "metadata": {},
     "output_type": "execute_result"
    }
   ],
   "source": [
    "print(\"Before Encoding\\n\")\n",
    "print(df['Location'].value_counts())\n",
    "print(\"\\nAfter Encoding\")\n",
    "o = OrdinalEncoder(categories=[['Close','Far']])\n",
    "df['Location']=o.fit_transform(df[['Location']])\n",
    "df['Location'].value_counts()"
   ]
  },
  {
   "cell_type": "markdown",
   "metadata": {},
   "source": [
    "# Salary"
   ]
  },
  {
   "cell_type": "code",
   "execution_count": 202,
   "metadata": {},
   "outputs": [
    {
     "data": {
      "image/png": "[encoded data removed]",
      "text/plain": [
       "<Figure size 432x288 with 1 Axes>"
      ]
     },
     "metadata": {
      "needs_background": "light"
     },
     "output_type": "display_data"
    }
   ],
   "source": [
    "plt.hist(df['Salary'])\n",
    "plt.xlabel('Salary')\n",
    "plt.show()"
   ]
  },
  {
   "cell_type": "markdown",
   "metadata": {},
   "source": [
    "It is a continuous variable . Creating 3 buckets for salary and converting it into a categorical variable."
   ]
  },
  {
   "cell_type": "code",
   "execution_count": 203,
   "metadata": {},
   "outputs": [
    {
     "data": {
      "text/plain": [
       "count      1000.000000\n",
       "mean      56103.900000\n",
       "std       30616.314826\n",
       "min       10100.000000\n",
       "25%       29975.000000\n",
       "50%       53700.000000\n",
       "75%       77025.000000\n",
       "max      168800.000000\n",
       "Name: Salary, dtype: float64"
      ]
     },
     "execution_count": 203,
     "metadata": {},
     "output_type": "execute_result"
    }
   ],
   "source": [
    "df['Salary'].describe()"
   ]
  },
  {
   "cell_type": "markdown",
   "metadata": {},
   "source": [
    "# Children"
   ]
  },
  {
   "cell_type": "code",
   "execution_count": 204,
   "metadata": {},
   "outputs": [
    {
     "data": {
      "image/png": "[encoded data removed]",
      "text/plain": [
       "<Figure size 432x288 with 1 Axes>"
      ]
     },
     "metadata": {
      "needs_background": "light"
     },
     "output_type": "display_data"
    }
   ],
   "source": [
    "sns.countplot(x='Children' , hue='CustType' , data=df)\n",
    "plt.show()"
   ]
  },
  {
   "cell_type": "markdown",
   "metadata": {},
   "source": [
    "# History\n",
    "This variable contains null values. Handling them first."
   ]
  },
  {
   "cell_type": "code",
   "execution_count": 205,
   "metadata": {},
   "outputs": [
    {
     "data": {
      "text/plain": [
       "array(['Medium', 'High', 'Low', 'New_Cust'], dtype=object)"
      ]
     },
     "execution_count": 205,
     "metadata": {},
     "output_type": "execute_result"
    }
   ],
   "source": [
    "df['History']=np.where(df['History'].isnull() , \"New_Cust\", df['History'])\n",
    "df['History'].unique()"
   ]
  },
  {
   "cell_type": "code",
   "execution_count": 206,
   "metadata": {},
   "outputs": [
    {
     "data": {
      "image/png": "[encoded data removed]",
      "text/plain": [
       "<Figure size 432x288 with 1 Axes>"
      ]
     },
     "metadata": {
      "needs_background": "light"
     },
     "output_type": "display_data"
    }
   ],
   "source": [
    "sns.countplot(x='History' , hue='CustType' , data=df)\n",
    "plt.show()"
   ]
  },
  {
   "cell_type": "code",
   "execution_count": 207,
   "metadata": {},
   "outputs": [
    {
     "name": "stdout",
     "output_type": "stream",
     "text": [
      "Before Encoding\n",
      "\n",
      "New_Cust    303\n",
      "High        255\n",
      "Low         230\n",
      "Medium      212\n",
      "Name: History, dtype: int64\n",
      "\n",
      "After Encoding\n"
     ]
    },
    {
     "data": {
      "text/plain": [
       "3.0    303\n",
       "2.0    255\n",
       "0.0    230\n",
       "1.0    212\n",
       "Name: History, dtype: int64"
      ]
     },
     "execution_count": 207,
     "metadata": {},
     "output_type": "execute_result"
    }
   ],
   "source": [
    "print(\"Before Encoding\\n\")\n",
    "print(df['History'].value_counts())\n",
    "print(\"\\nAfter Encoding\")\n",
    "o = OrdinalEncoder(categories=[['Low','Medium','High','New_Cust']])\n",
    "df['History']=o.fit_transform(df[['History']])\n",
    "df['History'].value_counts()"
   ]
  },
  {
   "cell_type": "markdown",
   "metadata": {},
   "source": [
    "# Catalogs"
   ]
  },
  {
   "cell_type": "code",
   "execution_count": 208,
   "metadata": {},
   "outputs": [
    {
     "data": {
      "image/png": "[encoded data removed]",
      "text/plain": [
       "<Figure size 432x288 with 1 Axes>"
      ]
     },
     "metadata": {
      "needs_background": "light"
     },
     "output_type": "display_data"
    }
   ],
   "source": [
    "sns.countplot(x='Catalogs' , hue='CustType' , data=df)\n",
    "plt.show()"
   ]
  },
  {
   "cell_type": "markdown",
   "metadata": {},
   "source": [
    "# Model Fitting"
   ]
  },
  {
   "cell_type": "code",
   "execution_count": 209,
   "metadata": {},
   "outputs": [
    {
     "name": "stdout",
     "output_type": "stream",
     "text": [
      "                 Generalized Linear Model Regression Results                  \n",
      "==============================================================================\n",
      "Dep. Variable:               CustType   No. Observations:                 1000\n",
      "Model:                            GLM   Df Residuals:                      983\n",
      "Model Family:                Binomial   Df Model:                           16\n",
      "Link Function:                  logit   Scale:                          1.0000\n",
      "Method:                          IRLS   Log-Likelihood:                -230.33\n",
      "Date:                Sat, 24 Jul 2021   Deviance:                       460.66\n",
      "Time:                        17:49:44   Pearson chi2:                     559.\n",
      "No. Iterations:                    25                                         \n",
      "Covariance Type:            nonrobust                                         \n",
      "======================================================================================\n",
      "                         coef    std err          z      P>|z|      [0.025      0.975]\n",
      "--------------------------------------------------------------------------------------\n",
      "Intercept            -33.6944   1.78e+04     -0.002      0.998   -3.49e+04    3.48e+04\n",
      "C(Age)[T.1.0]          1.0423      0.398      2.616      0.009       0.262       1.823\n",
      "C(Age)[T.2.0]          1.0129      0.445      2.279      0.023       0.142       1.884\n",
      "C(Gender)[T.1.0]       0.1033      0.250      0.413      0.679      -0.387       0.593\n",
      "C(OwnHome)[T.1.0]      0.1157      0.272      0.426      0.670      -0.417       0.648\n",
      "C(Married)[T.1.0]      0.2785      0.318      0.875      0.382      -0.345       0.903\n",
      "C(Location)[T.1.0]     1.4804      0.308      4.811      0.000       0.877       2.084\n",
      "C(Children)[T.1]      -0.7502      0.324     -2.313      0.021      -1.386      -0.115\n",
      "C(Children)[T.2]      -2.4194      0.466     -5.191      0.000      -3.333      -1.506\n",
      "C(Children)[T.3]      -1.4981      0.540     -2.777      0.005      -2.556      -0.441\n",
      "C(History)[T.1.0]     24.6190   1.78e+04      0.001      0.999   -3.48e+04    3.49e+04\n",
      "C(History)[T.2.0]     26.1831   1.78e+04      0.001      0.999   -3.48e+04    3.49e+04\n",
      "C(History)[T.3.0]     26.7157   1.78e+04      0.002      0.999   -3.48e+04    3.49e+04\n",
      "C(Catalogs)[T.12]      1.8586      0.373      4.977      0.000       1.127       2.591\n",
      "C(Catalogs)[T.18]      3.3863      0.408      8.306      0.000       2.587       4.185\n",
      "C(Catalogs)[T.24]      3.9885      0.426      9.366      0.000       3.154       4.823\n",
      "Salary                7.3e-05   1.01e-05      7.231      0.000    5.32e-05    9.28e-05\n",
      "======================================================================================\n"
     ]
    }
   ],
   "source": [
    "mod1 = smf.glm('CustType~C(Age)+C(Gender)+C(OwnHome)+C(Married)+C(Location)+Salary+C(Children)+C(History)+C(Catalogs)' , data=df ,\n",
    "              family = sm.families.Binomial())\n",
    "reg1=mod1.fit()\n",
    "print(reg1.summary())"
   ]
  },
  {
   "cell_type": "code",
   "execution_count": 211,
   "metadata": {},
   "outputs": [
    {
     "data": {
      "text/plain": [
       "array([[549,  52],\n",
       "       [ 60, 339]], dtype=int64)"
      ]
     },
     "execution_count": 211,
     "metadata": {},
     "output_type": "execute_result"
    }
   ],
   "source": [
    "prd1 = reg1.predict(df).map(lambda x : 1 if x>0.5 else 0)\n",
    "cm1 = confusion_matrix(df_f['CustType'] , prd1)\n",
    "cm1"
   ]
  },
  {
   "cell_type": "code",
   "execution_count": 212,
   "metadata": {},
   "outputs": [
    {
     "data": {
      "text/plain": [
       "0.888"
      ]
     },
     "execution_count": 212,
     "metadata": {},
     "output_type": "execute_result"
    }
   ],
   "source": [
    "acc1 = (cm1[0][0]+cm1[1][1])/np.sum(cm1)\n",
    "acc1"
   ]
  },
  {
   "cell_type": "code",
   "execution_count": 213,
   "metadata": {},
   "outputs": [
    {
     "data": {
      "text/plain": [
       "494.66104515206735"
      ]
     },
     "execution_count": 213,
     "metadata": {},
     "output_type": "execute_result"
    }
   ],
   "source": [
    "aic1 = reg1.aic\n",
    "aic1"
   ]
  },
  {
   "cell_type": "code",
   "execution_count": 216,
   "metadata": {},
   "outputs": [
    {
     "data": {
      "image/png": "[encoded data removed]",
      "text/plain": [
       "<Figure size 432x288 with 1 Axes>"
      ]
     },
     "metadata": {
      "needs_background": "light"
     },
     "output_type": "display_data"
    }
   ],
   "source": [
    "fpr , tpr , th = roc_curve(df_f['CustType'] , prd1)\n",
    "x,y = np.arange(0,1.1,0.1),np.arange(0,1.1,0.1)\n",
    "plt.plot(fpr , tpr , '-')\n",
    "plt.plot(x,y , 'b--')\n",
    "plt.xlabel('FPR')\n",
    "plt.ylabel('TPR')\n",
    "plt.show()"
   ]
  },
  {
   "cell_type": "code",
   "execution_count": 217,
   "metadata": {},
   "outputs": [
    {
     "data": {
      "text/plain": [
       "0.8815507987939899"
      ]
     },
     "execution_count": 217,
     "metadata": {},
     "output_type": "execute_result"
    }
   ],
   "source": [
    "auc1 = roc_auc_score(df['CustType'] , prd1)\n",
    "auc1"
   ]
  },
  {
   "cell_type": "markdown",
   "metadata": {},
   "source": [
    "From the Summary History,Gender,OwnHome,Married don't seem significant . Removing History and fitting the model again"
   ]
  },
  {
   "cell_type": "code",
   "execution_count": 224,
   "metadata": {},
   "outputs": [
    {
     "name": "stdout",
     "output_type": "stream",
     "text": [
      "                 Generalized Linear Model Regression Results                  \n",
      "==============================================================================\n",
      "Dep. Variable:               CustType   No. Observations:                 1000\n",
      "Model:                            GLM   Df Residuals:                      986\n",
      "Model Family:                Binomial   Df Model:                           13\n",
      "Link Function:                  logit   Scale:                          1.0000\n",
      "Method:                          IRLS   Log-Likelihood:                -283.65\n",
      "Date:                Sat, 24 Jul 2021   Deviance:                       567.29\n",
      "Time:                        17:56:30   Pearson chi2:                 1.25e+03\n",
      "No. Iterations:                     7                                         \n",
      "Covariance Type:            nonrobust                                         \n",
      "======================================================================================\n",
      "                         coef    std err          z      P>|z|      [0.025      0.975]\n",
      "--------------------------------------------------------------------------------------\n",
      "Intercept             -7.6193      0.566    -13.472      0.000      -8.728      -6.511\n",
      "C(Age)[T.1.0]          0.8013      0.364      2.200      0.028       0.087       1.515\n",
      "C(Age)[T.2.0]          0.4399      0.387      1.136      0.256      -0.319       1.199\n",
      "C(Gender)[T.1.0]       0.1725      0.224      0.770      0.441      -0.267       0.612\n",
      "C(OwnHome)[T.1.0]      0.2765      0.240      1.150      0.250      -0.195       0.748\n",
      "C(Married)[T.1.0]      0.3544      0.290      1.224      0.221      -0.213       0.922\n",
      "C(Location)[T.1.0]     1.9551      0.265      7.377      0.000       1.436       2.475\n",
      "C(Children)[T.1]      -0.9038      0.291     -3.111      0.002      -1.473      -0.334\n",
      "C(Children)[T.2]      -3.0721      0.408     -7.525      0.000      -3.872      -2.272\n",
      "C(Children)[T.3]      -3.1496      0.439     -7.170      0.000      -4.011      -2.289\n",
      "C(Catalogs)[T.12]      1.2839      0.334      3.839      0.000       0.628       1.939\n",
      "C(Catalogs)[T.18]      2.7664      0.355      7.788      0.000       2.070       3.463\n",
      "C(Catalogs)[T.24]      3.3635      0.367      9.177      0.000       2.645       4.082\n",
      "Salary              7.716e-05    7.8e-06      9.896      0.000    6.19e-05    9.24e-05\n",
      "======================================================================================\n"
     ]
    }
   ],
   "source": [
    "mod2 = smf.glm('CustType~C(Age)+C(Gender)+C(OwnHome)+C(Married)+C(Location)+Salary+C(Children)+C(Catalogs)' , data=df ,\n",
    "              family = sm.families.Binomial())\n",
    "reg2=mod2.fit()\n",
    "print(reg2.summary())"
   ]
  },
  {
   "cell_type": "code",
   "execution_count": 243,
   "metadata": {},
   "outputs": [
    {
     "data": {
      "text/plain": [
       "array([[542,  59],\n",
       "       [ 64, 335]], dtype=int64)"
      ]
     },
     "execution_count": 243,
     "metadata": {},
     "output_type": "execute_result"
    }
   ],
   "source": [
    "prd2 = reg2.predict(df).map(lambda x : 1 if x>0.5 else 0)\n",
    "cm2 = confusion_matrix(df['CustType'] , prd2)\n",
    "cm2"
   ]
  },
  {
   "cell_type": "code",
   "execution_count": 226,
   "metadata": {},
   "outputs": [
    {
     "data": {
      "text/plain": [
       "0.877"
      ]
     },
     "execution_count": 226,
     "metadata": {},
     "output_type": "execute_result"
    }
   ],
   "source": [
    "acc2 = (cm2[0][0]+cm2[1][1])/np.sum(cm2)\n",
    "acc2"
   ]
  },
  {
   "cell_type": "code",
   "execution_count": 227,
   "metadata": {},
   "outputs": [
    {
     "data": {
      "text/plain": [
       "595.2940720632897"
      ]
     },
     "execution_count": 227,
     "metadata": {},
     "output_type": "execute_result"
    }
   ],
   "source": [
    "aic2 = reg2.aic\n",
    "aic2"
   ]
  },
  {
   "cell_type": "code",
   "execution_count": 242,
   "metadata": {},
   "outputs": [
    {
     "data": {
      "image/png": "[encoded data removed]",
      "text/plain": [
       "<Figure size 432x288 with 1 Axes>"
      ]
     },
     "metadata": {
      "needs_background": "light"
     },
     "output_type": "display_data"
    }
   ],
   "source": [
    "fpr , tpr , th = roc_curve(df['CustType'] , prd2)\n",
    "x,y = np.arange(0,1.1,0.1),np.arange(0,1.1,0.1)\n",
    "plt.plot(fpr , tpr , '-')\n",
    "plt.plot(x,y , 'b--')\n",
    "plt.xlabel('FPR')\n",
    "plt.ylabel('TPR')\n",
    "plt.show()"
   ]
  },
  {
   "cell_type": "code",
   "execution_count": 230,
   "metadata": {},
   "outputs": [
    {
     "data": {
      "text/plain": [
       "0.8707146401778156"
      ]
     },
     "execution_count": 230,
     "metadata": {},
     "output_type": "execute_result"
    }
   ],
   "source": [
    "auc2 = roc_auc_score(df['CustType'] , prd2)\n",
    "auc2"
   ]
  },
  {
   "cell_type": "markdown",
   "metadata": {},
   "source": [
    "The model did not get better . Dropping Gender"
   ]
  },
  {
   "cell_type": "code",
   "execution_count": 231,
   "metadata": {},
   "outputs": [
    {
     "name": "stdout",
     "output_type": "stream",
     "text": [
      "                 Generalized Linear Model Regression Results                  \n",
      "==============================================================================\n",
      "Dep. Variable:               CustType   No. Observations:                 1000\n",
      "Model:                            GLM   Df Residuals:                      987\n",
      "Model Family:                Binomial   Df Model:                           12\n",
      "Link Function:                  logit   Scale:                          1.0000\n",
      "Method:                          IRLS   Log-Likelihood:                -283.94\n",
      "Date:                Sat, 24 Jul 2021   Deviance:                       567.89\n",
      "Time:                        18:00:07   Pearson chi2:                 1.34e+03\n",
      "No. Iterations:                     7                                         \n",
      "Covariance Type:            nonrobust                                         \n",
      "======================================================================================\n",
      "                         coef    std err          z      P>|z|      [0.025      0.975]\n",
      "--------------------------------------------------------------------------------------\n",
      "Intercept             -7.5433      0.555    -13.593      0.000      -8.631      -6.456\n",
      "C(Age)[T.1.0]          0.7882      0.364      2.165      0.030       0.075       1.502\n",
      "C(Age)[T.2.0]          0.4002      0.384      1.042      0.297      -0.353       1.153\n",
      "C(OwnHome)[T.1.0]      0.2700      0.240      1.125      0.261      -0.200       0.740\n",
      "C(Married)[T.1.0]      0.3254      0.287      1.133      0.257      -0.238       0.888\n",
      "C(Location)[T.1.0]     1.9649      0.265      7.421      0.000       1.446       2.484\n",
      "C(Children)[T.1]      -0.9325      0.288     -3.239      0.001      -1.497      -0.368\n",
      "C(Children)[T.2]      -3.0863      0.407     -7.580      0.000      -3.884      -2.288\n",
      "C(Children)[T.3]      -3.1998      0.436     -7.347      0.000      -4.053      -2.346\n",
      "C(Catalogs)[T.12]      1.2822      0.334      3.834      0.000       0.627       1.938\n",
      "C(Catalogs)[T.18]      2.7687      0.355      7.794      0.000       2.072       3.465\n",
      "C(Catalogs)[T.24]      3.3596      0.366      9.180      0.000       2.642       4.077\n",
      "Salary              7.831e-05   7.68e-06     10.196      0.000    6.33e-05    9.34e-05\n",
      "======================================================================================\n"
     ]
    }
   ],
   "source": [
    "mod3 = smf.glm('CustType~C(Age)+C(OwnHome)+C(Married)+C(Location)+Salary+C(Children)+C(Catalogs)' , data=df ,\n",
    "              family = sm.families.Binomial())\n",
    "reg3=mod3.fit()\n",
    "print(reg3.summary())"
   ]
  },
  {
   "cell_type": "code",
   "execution_count": 240,
   "metadata": {},
   "outputs": [
    {
     "data": {
      "text/plain": [
       "array([[544,  57],\n",
       "       [ 65, 334]], dtype=int64)"
      ]
     },
     "execution_count": 240,
     "metadata": {},
     "output_type": "execute_result"
    }
   ],
   "source": [
    "prd3 = reg3.predict(df).map(lambda x : 1 if x>0.5 else 0)\n",
    "cm3 = confusion_matrix(df['CustType'] , prd3)\n",
    "cm3"
   ]
  },
  {
   "cell_type": "code",
   "execution_count": 233,
   "metadata": {},
   "outputs": [
    {
     "data": {
      "text/plain": [
       "0.878"
      ]
     },
     "execution_count": 233,
     "metadata": {},
     "output_type": "execute_result"
    }
   ],
   "source": [
    "acc3 = (cm3[0][0]+cm3[1][1])/np.sum(cm3)\n",
    "acc3"
   ]
  },
  {
   "cell_type": "code",
   "execution_count": 234,
   "metadata": {},
   "outputs": [
    {
     "data": {
      "text/plain": [
       "593.8865749294762"
      ]
     },
     "execution_count": 234,
     "metadata": {},
     "output_type": "execute_result"
    }
   ],
   "source": [
    "aic3=reg3.aic\n",
    "aic3"
   ]
  },
  {
   "cell_type": "code",
   "execution_count": 241,
   "metadata": {},
   "outputs": [
    {
     "data": {
      "image/png": "[encoded data removed]",
      "text/plain": [
       "<Figure size 432x288 with 1 Axes>"
      ]
     },
     "metadata": {
      "needs_background": "light"
     },
     "output_type": "display_data"
    }
   ],
   "source": [
    "fpr , tpr , th = roc_curve(df['CustType'] , prd3)\n",
    "x,y = np.arange(0,1.1,0.1),np.arange(0,1.1,0.1)\n",
    "plt.plot(fpr , tpr , '-')\n",
    "plt.plot(x,y , 'b--')\n",
    "plt.xlabel('FPR')\n",
    "plt.ylabel('TPR')\n",
    "plt.show()"
   ]
  },
  {
   "cell_type": "code",
   "execution_count": 237,
   "metadata": {},
   "outputs": [
    {
     "data": {
      "text/plain": [
       "0.8711254008565508"
      ]
     },
     "execution_count": 237,
     "metadata": {},
     "output_type": "execute_result"
    }
   ],
   "source": [
    "auc3 = roc_auc_score(df['CustType'] , prd3)\n",
    "auc3"
   ]
  },
  {
   "cell_type": "markdown",
   "metadata": {},
   "source": [
    "Dropping OwnHome"
   ]
  },
  {
   "cell_type": "code",
   "execution_count": 238,
   "metadata": {},
   "outputs": [
    {
     "name": "stdout",
     "output_type": "stream",
     "text": [
      "                 Generalized Linear Model Regression Results                  \n",
      "==============================================================================\n",
      "Dep. Variable:               CustType   No. Observations:                 1000\n",
      "Model:                            GLM   Df Residuals:                      988\n",
      "Model Family:                Binomial   Df Model:                           11\n",
      "Link Function:                  logit   Scale:                          1.0000\n",
      "Method:                          IRLS   Log-Likelihood:                -284.58\n",
      "Date:                Sat, 24 Jul 2021   Deviance:                       569.15\n",
      "Time:                        18:36:27   Pearson chi2:                 1.32e+03\n",
      "No. Iterations:                     7                                         \n",
      "Covariance Type:            nonrobust                                         \n",
      "======================================================================================\n",
      "                         coef    std err          z      P>|z|      [0.025      0.975]\n",
      "--------------------------------------------------------------------------------------\n",
      "Intercept             -7.5510      0.555    -13.617      0.000      -8.638      -6.464\n",
      "C(Age)[T.1.0]          0.8374      0.362      2.315      0.021       0.128       1.546\n",
      "C(Age)[T.2.0]          0.5239      0.368      1.425      0.154      -0.197       1.245\n",
      "C(Married)[T.1.0]      0.2985      0.287      1.041      0.298      -0.263       0.861\n",
      "C(Location)[T.1.0]     1.9534      0.264      7.389      0.000       1.435       2.472\n",
      "C(Children)[T.1]      -0.9193      0.287     -3.203      0.001      -1.482      -0.357\n",
      "C(Children)[T.2]      -3.0774      0.407     -7.563      0.000      -3.875      -2.280\n",
      "C(Children)[T.3]      -3.1958      0.435     -7.350      0.000      -4.048      -2.344\n",
      "C(Catalogs)[T.12]      1.2960      0.333      3.893      0.000       0.643       1.948\n",
      "C(Catalogs)[T.18]      2.7743      0.354      7.839      0.000       2.081       3.468\n",
      "C(Catalogs)[T.24]      3.3606      0.365      9.206      0.000       2.645       4.076\n",
      "Salary              8.018e-05   7.54e-06     10.635      0.000    6.54e-05     9.5e-05\n",
      "======================================================================================\n"
     ]
    }
   ],
   "source": [
    "mod4 = smf.glm('CustType~C(Age)+C(Married)+C(Location)+Salary+C(Children)+C(Catalogs)' , data=df ,\n",
    "              family = sm.families.Binomial())\n",
    "reg4=mod4.fit()\n",
    "print(reg4.summary())"
   ]
  },
  {
   "cell_type": "code",
   "execution_count": 239,
   "metadata": {},
   "outputs": [
    {
     "data": {
      "text/plain": [
       "array([[541,  60],\n",
       "       [ 68, 331]], dtype=int64)"
      ]
     },
     "execution_count": 239,
     "metadata": {},
     "output_type": "execute_result"
    }
   ],
   "source": [
    "prd4 = reg4.predict(df).map(lambda x : 1 if x>0.5 else 0)\n",
    "cm4 = confusion_matrix(df['CustType'] , prd4)\n",
    "cm4"
   ]
  },
  {
   "cell_type": "code",
   "execution_count": 244,
   "metadata": {},
   "outputs": [
    {
     "data": {
      "text/plain": [
       "0.872"
      ]
     },
     "execution_count": 244,
     "metadata": {},
     "output_type": "execute_result"
    }
   ],
   "source": [
    "acc4 = (cm4[0][0]+cm4[1][1])/np.sum(cm4)\n",
    "acc4"
   ]
  },
  {
   "cell_type": "code",
   "execution_count": 245,
   "metadata": {},
   "outputs": [
    {
     "data": {
      "text/plain": [
       "593.150837988783"
      ]
     },
     "execution_count": 245,
     "metadata": {},
     "output_type": "execute_result"
    }
   ],
   "source": [
    "aic4=reg4.aic\n",
    "aic4"
   ]
  },
  {
   "cell_type": "code",
   "execution_count": 247,
   "metadata": {},
   "outputs": [
    {
     "data": {
      "image/png": "[encoded data removed]",
      "text/plain": [
       "<Figure size 432x288 with 1 Axes>"
      ]
     },
     "metadata": {
      "needs_background": "light"
     },
     "output_type": "display_data"
    }
   ],
   "source": [
    "fpr , tpr , th = roc_curve(df['CustType'] , prd4)\n",
    "x,y = np.arange(0,1.1,0.1),np.arange(0,1.1,0.1)\n",
    "plt.plot(fpr , tpr , '-')\n",
    "plt.plot(x,y , 'b--')\n",
    "plt.xlabel('FPR')\n",
    "plt.ylabel('TPR')\n",
    "plt.show()"
   ]
  },
  {
   "cell_type": "code",
   "execution_count": 256,
   "metadata": {},
   "outputs": [
    {
     "data": {
      "text/plain": [
       "0.8648701620940872"
      ]
     },
     "execution_count": 256,
     "metadata": {},
     "output_type": "execute_result"
    }
   ],
   "source": [
    "auc4 = roc_auc_score(df['CustType'] , prd4)\n",
    "auc4"
   ]
  },
  {
   "cell_type": "markdown",
   "metadata": {},
   "source": [
    "Dropping Married"
   ]
  },
  {
   "cell_type": "code",
   "execution_count": 249,
   "metadata": {},
   "outputs": [
    {
     "name": "stdout",
     "output_type": "stream",
     "text": [
      "                 Generalized Linear Model Regression Results                  \n",
      "==============================================================================\n",
      "Dep. Variable:               CustType   No. Observations:                 1000\n",
      "Model:                            GLM   Df Residuals:                      989\n",
      "Model Family:                Binomial   Df Model:                           10\n",
      "Link Function:                  logit   Scale:                          1.0000\n",
      "Method:                          IRLS   Log-Likelihood:                -285.12\n",
      "Date:                Sat, 24 Jul 2021   Deviance:                       570.23\n",
      "Time:                        18:39:28   Pearson chi2:                 1.40e+03\n",
      "No. Iterations:                     7                                         \n",
      "Covariance Type:            nonrobust                                         \n",
      "======================================================================================\n",
      "                         coef    std err          z      P>|z|      [0.025      0.975]\n",
      "--------------------------------------------------------------------------------------\n",
      "Intercept             -7.5603      0.553    -13.666      0.000      -8.645      -6.476\n",
      "C(Age)[T.1.0]          0.6832      0.329      2.077      0.038       0.038       1.328\n",
      "C(Age)[T.2.0]          0.4856      0.366      1.328      0.184      -0.231       1.202\n",
      "C(Location)[T.1.0]     1.9459      0.264      7.381      0.000       1.429       2.463\n",
      "C(Children)[T.1]      -0.8775      0.283     -3.105      0.002      -1.431      -0.324\n",
      "C(Children)[T.2]      -3.0253      0.404     -7.496      0.000      -3.816      -2.234\n",
      "C(Children)[T.3]      -3.1388      0.431     -7.281      0.000      -3.984      -2.294\n",
      "C(Catalogs)[T.12]      1.2885      0.333      3.871      0.000       0.636       1.941\n",
      "C(Catalogs)[T.18]      2.7728      0.353      7.846      0.000       2.080       3.466\n",
      "C(Catalogs)[T.24]      3.3645      0.365      9.229      0.000       2.650       4.079\n",
      "Salary              8.449e-05    6.4e-06     13.194      0.000    7.19e-05     9.7e-05\n",
      "======================================================================================\n"
     ]
    }
   ],
   "source": [
    "mod5 = smf.glm('CustType~C(Age)+C(Location)+Salary+C(Children)+C(Catalogs)' , data=df ,\n",
    "              family = sm.families.Binomial())\n",
    "reg5 = mod5.fit()\n",
    "print(reg5.summary())"
   ]
  },
  {
   "cell_type": "code",
   "execution_count": 250,
   "metadata": {},
   "outputs": [
    {
     "data": {
      "text/plain": [
       "array([[540,  61],\n",
       "       [ 64, 335]], dtype=int64)"
      ]
     },
     "execution_count": 250,
     "metadata": {},
     "output_type": "execute_result"
    }
   ],
   "source": [
    "prd5 = reg5.predict(df).map(lambda x : 1 if x>0.5 else 0)\n",
    "cm5 = confusion_matrix(df['CustType'] , prd5)\n",
    "cm5"
   ]
  },
  {
   "cell_type": "code",
   "execution_count": 251,
   "metadata": {},
   "outputs": [
    {
     "data": {
      "text/plain": [
       "0.875"
      ]
     },
     "execution_count": 251,
     "metadata": {},
     "output_type": "execute_result"
    }
   ],
   "source": [
    "acc5 = (cm5[0][0]+cm5[1][1])/np.sum(cm5)\n",
    "acc5"
   ]
  },
  {
   "cell_type": "code",
   "execution_count": 252,
   "metadata": {},
   "outputs": [
    {
     "data": {
      "text/plain": [
       "592.2310631311896"
      ]
     },
     "execution_count": 252,
     "metadata": {},
     "output_type": "execute_result"
    }
   ],
   "source": [
    "aic5=reg5.aic\n",
    "aic5"
   ]
  },
  {
   "cell_type": "code",
   "execution_count": 254,
   "metadata": {},
   "outputs": [
    {
     "data": {
      "image/png": "[encoded data removed]",
      "text/plain": [
       "<Figure size 432x288 with 1 Axes>"
      ]
     },
     "metadata": {
      "needs_background": "light"
     },
     "output_type": "display_data"
    }
   ],
   "source": [
    "fpr , tpr , th = roc_curve(df['CustType'] , prd5)\n",
    "x,y = np.arange(0,1.1,0.1),np.arange(0,1.1,0.1)\n",
    "plt.plot(fpr , tpr , '-')\n",
    "plt.plot(x,y , 'b--')\n",
    "plt.xlabel('FPR')\n",
    "plt.ylabel('TPR')\n",
    "plt.show()"
   ]
  },
  {
   "cell_type": "code",
   "execution_count": 255,
   "metadata": {},
   "outputs": [
    {
     "data": {
      "text/plain": [
       "0.8690507466670002"
      ]
     },
     "execution_count": 255,
     "metadata": {},
     "output_type": "execute_result"
    }
   ],
   "source": [
    "auc5= roc_auc_score(df['CustType'] , prd5)\n",
    "auc5"
   ]
  },
  {
   "cell_type": "markdown",
   "metadata": {},
   "source": [
    "Mod1 has highest accuracy but it has insignificant variables as well . Mod5 has no insignificant variables and the accuracy is almost identical to the mod1 . Hence mod5 is the final model."
   ]
  }
 ],
 "metadata": {
  "kernelspec": {
   "display_name": "Python 3",
   "language": "python",
   "name": "python3"
  },
  "language_info": {
   "codemirror_mode": {
    "name": "ipython",
    "version": 3
   },
   "file_extension": ".py",
   "mimetype": "text/x-python",
   "name": "python",
   "nbconvert_exporter": "python",
   "pygments_lexer": "ipython3",
   "version": "3.8.5"
  }
 },
 "nbformat": 4,
 "nbformat_minor": 4
}
